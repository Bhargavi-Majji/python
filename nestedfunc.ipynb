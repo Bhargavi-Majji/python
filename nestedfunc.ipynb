{
 "cells": [
  {
   "cell_type": "code",
   "execution_count": 3,
   "id": "dbf46c85-c843-4175-b2cb-ce9a736ebc3f",
   "metadata": {},
   "outputs": [
    {
     "name": "stdout",
     "output_type": "stream",
     "text": [
      "outer fuction\n",
      "inner fuction\n"
     ]
    }
   ],
   "source": [
    "#simple nested func\n",
    "def hi():\n",
    "    def hello():\n",
    "        print(\"inner fuction\")\n",
    "    print(\"outer fuction\")\n",
    "    hello()\n",
    "hi()"
   ]
  },
  {
   "cell_type": "code",
   "execution_count": 9,
   "id": "12e2748e-98da-4449-b97e-9bdcca6b2a6a",
   "metadata": {},
   "outputs": [
    {
     "name": "stdin",
     "output_type": "stream",
     "text": [
      "enter value A: 5\n",
      "enter value B: 4\n"
     ]
    },
    {
     "name": "stdout",
     "output_type": "stream",
     "text": [
      "Addition: 9\n",
      "Subtraction: 1\n",
      "Multipliation: 20\n"
     ]
    }
   ],
   "source": [
    "#arthematic operation\n",
    "def operation(a,b):\n",
    "    def add():\n",
    "        return a+b\n",
    "    def sub():\n",
    "        return a-b\n",
    "    def mul():\n",
    "        return a*b\n",
    "    print(\"Addition:\",add())\n",
    "    print(\"Subtraction:\",sub())\n",
    "    print(\"Multipliation:\",mul())\n",
    "a=int(input(\"enter value A:\"))\n",
    "b=int(input(\"enter value B:\"))\n",
    "operation(a,b)"
   ]
  },
  {
   "cell_type": "code",
   "execution_count": 41,
   "id": "7eb25c4e-5fae-41e7-a3a0-69662536ae82",
   "metadata": {},
   "outputs": [
    {
     "name": "stdin",
     "output_type": "stream",
     "text": [
      "Enter value of A: 5\n",
      "Enter value of B: 3\n"
     ]
    },
    {
     "name": "stdout",
     "output_type": "stream",
     "text": [
      "factorial: 120\n",
      "power: 125\n"
     ]
    }
   ],
   "source": [
    "'''program to caliculate the factorial and power of given numbers by creating the nested loop\n",
    "where a=5,=3 \n",
    "fatorial=120\n",
    "power=125'''\n",
    "def cali(a,b):\n",
    "    def fac():\n",
    "        fact=1\n",
    "        for i in range(1,a+1):\n",
    "            fact*=i\n",
    "        return fact\n",
    "    def powe():\n",
    "        return a**b\n",
    "    print(\"factorial:\",fac())\n",
    "    print(\"power:\",powe())\n",
    "\n",
    "a=int(input(\"Enter value of A:\"))\n",
    "b=int(input(\"Enter value of B:\"))\n",
    "cali(a,b)"
   ]
  },
  {
   "cell_type": "code",
   "execution_count": 43,
   "id": "91cbb45e-b51a-4ffe-80fb-47053ddf2478",
   "metadata": {},
   "outputs": [
    {
     "name": "stdin",
     "output_type": "stream",
     "text": [
      "Enter the number: 5\n"
     ]
    },
    {
     "name": "stdout",
     "output_type": "stream",
     "text": [
      "Factorial 34560\n"
     ]
    }
   ],
   "source": [
    "#super factorial\n",
    "def fact(n):\n",
    "    if n==0 or n==1:\n",
    "        return 1\n",
    "    return n*fact(n-1)\n",
    "def sfact(n):\n",
    "    if n==1:\n",
    "        return 1\n",
    "    return fact(n)*sfact(n-1)\n",
    "num=int(input(\"Enter the number:\"))\n",
    "print(\"Factorial\",sfact(num))"
   ]
  },
  {
   "cell_type": "code",
   "execution_count": null,
   "id": "b4832e92-8202-4b41-9961-d74e3606f693",
   "metadata": {},
   "outputs": [],
   "source": []
  }
 ],
 "metadata": {
  "kernelspec": {
   "display_name": "Python 3 (ipykernel)",
   "language": "python",
   "name": "python3"
  },
  "language_info": {
   "codemirror_mode": {
    "name": "ipython",
    "version": 3
   },
   "file_extension": ".py",
   "mimetype": "text/x-python",
   "name": "python",
   "nbconvert_exporter": "python",
   "pygments_lexer": "ipython3",
   "version": "3.12.7"
  }
 },
 "nbformat": 4,
 "nbformat_minor": 5
}
