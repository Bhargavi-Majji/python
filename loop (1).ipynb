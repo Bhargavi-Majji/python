{
 "cells": [
  {
   "cell_type": "code",
   "execution_count": 1,
   "id": "183f99b5-bc8d-47e9-aa08-9dc687f9cae5",
   "metadata": {},
   "outputs": [
    {
     "name": "stdout",
     "output_type": "stream",
     "text": [
      "Bhargavi\n",
      "Bhargavi\n",
      "Bhargavi\n",
      "Bhargavi\n",
      "Bhargavi\n"
     ]
    }
   ],
   "source": [
    "loop = 0\n",
    "while loop < 5:\n",
    "    print('Bhargavi')\n",
    "    loop = loop + 1\n",
    "    "
   ]
  },
  {
   "cell_type": "code",
   "execution_count": 22,
   "id": "d3dac369-6448-4066-ada4-2761f934af0e",
   "metadata": {},
   "outputs": [
    {
     "name": "stdin",
     "output_type": "stream",
     "text": [
      "enter the value of n: 2\n"
     ]
    },
    {
     "name": "stdout",
     "output_type": "stream",
     "text": [
      "2 "
     ]
    }
   ],
   "source": [
    "n=int(input(\"enter the value of n:\"))\n",
    "i=1\n",
    "while i<=n:\n",
    "    if i%2==0:\n",
    "        print(i, end=' ')\n",
    "    i+=1"
   ]
  },
  {
   "cell_type": "code",
   "execution_count": 15,
   "id": "3c9a4283-f59e-4dd9-8a97-b9f8c10de7d6",
   "metadata": {},
   "outputs": [
    {
     "name": "stdin",
     "output_type": "stream",
     "text": [
      "enter the value of n: 22\n"
     ]
    },
    {
     "name": "stdout",
     "output_type": "stream",
     "text": [
      "total: 253\n"
     ]
    }
   ],
   "source": [
    "#print sum of first n natural numbers n=10, output:55\n",
    "sum=0\n",
    "i = 1\n",
    "n=int(input(\"enter the value of n:\"))\n",
    "while i<=n:\n",
    "    sum+=i\n",
    "    i+=1\n",
    "print(\"total:\",sum)\n"
   ]
  },
  {
   "cell_type": "code",
   "execution_count": 24,
   "id": "fa609df2-7977-41ec-ae9a-227d65bff350",
   "metadata": {},
   "outputs": [
    {
     "name": "stdout",
     "output_type": "stream",
     "text": [
      "0\n",
      "1\n",
      "2\n",
      "3\n",
      "4\n",
      "2\n",
      "3\n",
      "4\n",
      "5\n",
      "6\n",
      "7\n",
      "0\n",
      "2\n",
      "4\n",
      "6\n",
      "8\n",
      "10\n"
     ]
    }
   ],
   "source": [
    "#Printing Numbers in a Range:\n",
    "#Using a for loop:\n",
    "\n",
    "# Prints numbers from 0 to 4\n",
    "for i in range(5):\n",
    "    print(i)\n",
    "\n",
    "# Prints numbers from 2 to 7\n",
    "for i in range(2, 8):\n",
    "    print(i)\n",
    "\n",
    "# Prints even numbers from 0 to 10 (step of 2)\n",
    "for i in range(0, 11, 2):\n",
    "    print(i)"
   ]
  },
  {
   "cell_type": "code",
   "execution_count": 26,
   "id": "bab050e6-4ef8-48cd-9c14-c2f13f5e3b0c",
   "metadata": {},
   "outputs": [
    {
     "name": "stdout",
     "output_type": "stream",
     "text": [
      "0\n",
      "1\n",
      "2\n",
      "3\n",
      "4\n",
      "2\n",
      "3\n",
      "4\n",
      "5\n",
      "6\n",
      "7\n"
     ]
    }
   ],
   "source": [
    "#Using a while loop:\n",
    "# Prints numbers from 0 to 4\n",
    "count = 0\n",
    "while count < 5:\n",
    "    print(count)\n",
    "    count += 1\n",
    "\n",
    "# Prints numbers from 2 to 7\n",
    "num = 2\n",
    "while num <= 7:\n",
    "    print(num)\n",
    "    num += 1"
   ]
  },
  {
   "cell_type": "code",
   "execution_count": 28,
   "id": "1ff4f8d8-5274-468e-9cab-dcc7be681b50",
   "metadata": {},
   "outputs": [
    {
     "name": "stdout",
     "output_type": "stream",
     "text": [
      "apple\n",
      "banana\n",
      "cherry\n",
      "apple\n",
      "banana\n",
      "cherry\n"
     ]
    }
   ],
   "source": [
    "#Iterating Through a List:\n",
    "\n",
    "#Using a for loop:\n",
    "\n",
    "fruits = [\"apple\", \"banana\", \"cherry\"]\n",
    "for fruit in fruits:\n",
    "    print(fruit)\n",
    "    \n",
    "#Using a while loop:\n",
    "\n",
    "fruits = [\"apple\", \"banana\", \"cherry\"]\n",
    "index = 0\n",
    "while index < len(fruits):\n",
    "    print(fruits[index])\n",
    "    index += 1\n"
   ]
  },
  {
   "cell_type": "code",
   "execution_count": 30,
   "id": "ef91c996-278f-42a5-b8e2-2a4126b42e00",
   "metadata": {},
   "outputs": [
    {
     "name": "stdout",
     "output_type": "stream",
     "text": [
      "Sum: 15\n",
      "Sum: 15\n"
     ]
    }
   ],
   "source": [
    "#Calculating the Sum of Numbers:\n",
    "\n",
    "#Using a for loop:\n",
    "\n",
    "numbers = [1, 2, 3, 4, 5]\n",
    "total = 0\n",
    "for num in numbers:\n",
    "    total += num\n",
    "print(\"Sum:\", total)\n",
    "\n",
    "#Using a while loop:\n",
    "\n",
    "numbers = [1, 2, 3, 4, 5]\n",
    "total = 0\n",
    "i = 0\n",
    "while i < len(numbers):\n",
    "    total += numbers[i]\n",
    "    i += 1\n",
    "print(\"Sum:\", total)\n"
   ]
  },
  {
   "cell_type": "code",
   "execution_count": 32,
   "id": "bd6bd5e2-3b62-45c6-969e-76ab01fbf1ab",
   "metadata": {},
   "outputs": [
    {
     "name": "stdout",
     "output_type": "stream",
     "text": [
      "Largest: 20\n",
      "Largest: 20\n"
     ]
    }
   ],
   "source": [
    "#Finding the Largest Number in a List:\n",
    "\n",
    "#Using a for loop:\n",
    "\n",
    "numbers = [10, 5, 20, 8, 15]\n",
    "largest = numbers[0]  # Assume the first number is the largest initially\n",
    "for num in numbers:\n",
    "    if num > largest:\n",
    "        largest = num\n",
    "print(\"Largest:\", largest)\n",
    "\n",
    "#Using a while loop:\n",
    "\n",
    "numbers = [10, 5, 20, 8, 15]\n",
    "largest = numbers[0]\n",
    "i = 1\n",
    "while i < len(numbers):\n",
    "    if numbers[i] > largest:\n",
    "        largest = numbers[i]\n",
    "    i += 1\n",
    "print(\"Largest:\", largest)\n"
   ]
  },
  {
   "cell_type": "code",
   "execution_count": 34,
   "id": "bc77d549-217f-4d62-8b50-96dd02b4244e",
   "metadata": {},
   "outputs": [
    {
     "name": "stdout",
     "output_type": "stream",
     "text": [
      "* \n",
      "* * \n",
      "* * * \n",
      "* * * * \n",
      "* * * * * \n"
     ]
    }
   ],
   "source": [
    "#Printing a Pattern:\n",
    "\n",
    "#Using nested for loops:\n",
    "\n",
    "rows = 5\n",
    "for i in range(rows):\n",
    "    for j in range(i + 1):\n",
    "        print(\"*\", end=\" \")\n",
    "    print()\n"
   ]
  },
  {
   "cell_type": "code",
   "execution_count": 36,
   "id": "57ba3a1f-a96d-4ca0-92a1-f5539600d0ee",
   "metadata": {},
   "outputs": [
    {
     "name": "stdin",
     "output_type": "stream",
     "text": [
      "enter the value of n: 123456789\n"
     ]
    },
    {
     "name": "stdout",
     "output_type": "stream",
     "text": [
      "123456789\n",
      "987654321\n"
     ]
    }
   ],
   "source": [
    "#reverse the  digit number \n",
    "#using while loop\n",
    "\n",
    "num=int(input(\"enter the value of n:\"))\n",
    "rev=0\n",
    "print(num)\n",
    "while num>0:\n",
    "    d=num%10\n",
    "    rev=rev*10+d\n",
    "    num//=10\n",
    "print(rev)"
   ]
  },
  {
   "cell_type": "code",
   "execution_count": 38,
   "id": "7a7de210-de5b-4ac5-9c29-71646479cb76",
   "metadata": {},
   "outputs": [
    {
     "name": "stdout",
     "output_type": "stream",
     "text": [
      "0 3 2 1 "
     ]
    }
   ],
   "source": [
    "n=1230\n",
    "while n!=0:\n",
    "    t=n%10\n",
    "    print(t,end=' ')\n",
    "    n//=10"
   ]
  },
  {
   "cell_type": "code",
   "execution_count": null,
   "id": "fb0607b8-95c9-4044-b60a-bf23158193c5",
   "metadata": {},
   "outputs": [],
   "source": [
    " "
   ]
  }
 ],
 "metadata": {
  "kernelspec": {
   "display_name": "Python 3 (ipykernel)",
   "language": "python",
   "name": "python3"
  },
  "language_info": {
   "codemirror_mode": {
    "name": "ipython",
    "version": 3
   },
   "file_extension": ".py",
   "mimetype": "text/x-python",
   "name": "python",
   "nbconvert_exporter": "python",
   "pygments_lexer": "ipython3",
   "version": "3.12.7"
  }
 },
 "nbformat": 4,
 "nbformat_minor": 5
}
