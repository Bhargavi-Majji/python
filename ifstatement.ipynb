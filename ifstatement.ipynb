{
 "cells": [
  {
   "cell_type": "code",
   "execution_count": 5,
   "id": "4068f3e5-0e3f-4cf0-b0d2-c650e9532dd3",
   "metadata": {},
   "outputs": [
    {
     "name": "stdout",
     "output_type": "stream",
     "text": [
      "hi\n",
      "puji\n"
     ]
    }
   ],
   "source": [
    "num=99\n",
    "if 99>0:\n",
    "    print(\"hi\")\n",
    "    print(\"puji\")"
   ]
  },
  {
   "cell_type": "code",
   "execution_count": 13,
   "id": "0aefc5a0-3fea-4403-94d2-d08a052aed21",
   "metadata": {},
   "outputs": [
    {
     "name": "stdout",
     "output_type": "stream",
     "text": [
      "enter the number 18\n"
     ]
    },
    {
     "name": "stdout",
     "output_type": "stream",
     "text": [
      "eligible\n"
     ]
    }
   ],
   "source": [
    "'''write a program to check whether the person is eligible to vote by using if condition'''\n",
    "person=int(input(\"enter the number\"))\n",
    "limit=18\n",
    "if person>=limit:\n",
    "    print(\"eligible\")\n",
    "\n"
   ]
  },
  {
   "cell_type": "code",
   "execution_count": 19,
   "id": "3581e7a2-a8a7-4087-b65d-96f9c767426a",
   "metadata": {},
   "outputs": [
    {
     "name": "stdout",
     "output_type": "stream",
     "text": [
      "enter 2\n"
     ]
    },
    {
     "name": "stdout",
     "output_type": "stream",
     "text": [
      "not eligible\n"
     ]
    }
   ],
   "source": [
    "person=int(input(\"enter\"))\n",
    "age=18\n",
    "if person>=18:\n",
    "    print(\"eligible\")\n",
    "else:\n",
    "    print(\"not eligible\")"
   ]
  },
  {
   "cell_type": "code",
   "execution_count": 31,
   "id": "7e2597f7-fff7-4d30-aedd-bf5be41e345f",
   "metadata": {},
   "outputs": [
    {
     "name": "stdout",
     "output_type": "stream",
     "text": [
      "enter the number 3\n"
     ]
    },
    {
     "name": "stdout",
     "output_type": "stream",
     "text": [
      "3 is a odd number\n",
      "after conition\n"
     ]
    }
   ],
   "source": [
    "'''print whether the number is even and skip the condion if not'''\n",
    "num=int(input(\"enter the number\"))\n",
    "if num%2==1: print(num,\"is a odd number\")\n",
    "print(\"after conition\")"
   ]
  },
  {
   "cell_type": "code",
   "execution_count": 41,
   "id": "8a20cfcb-3a00-4695-827c-eb61ff330509",
   "metadata": {},
   "outputs": [
    {
     "name": "stdout",
     "output_type": "stream",
     "text": [
      "press any key 9\n"
     ]
    },
    {
     "name": "stdout",
     "output_type": "stream",
     "text": [
      "the user has entered digit\n"
     ]
    }
   ],
   "source": [
    "'''program to determine the character enterd by a user,whether it is an alphabet,degit or space by using \n",
    "seperate if condition and predefine string functions'''\n",
    "char=input(\"press any key\")\n",
    "if char.isalpha():\n",
    "    print(\"the user has entered character\")\n",
    "if char.isdigit():\n",
    "     print(\"the user has entered digit\")\n",
    "if char.isspace():\n",
    "     print(\"the user has entered space\")\n",
    "                "
   ]
  },
  {
   "cell_type": "code",
   "execution_count": 71,
   "id": "c4fcccde-d210-41ae-8aae-57eb092d8a6f",
   "metadata": {},
   "outputs": [
    {
     "name": "stdout",
     "output_type": "stream",
     "text": [
      "b is small\n"
     ]
    }
   ],
   "source": [
    "'''write a program to find the smallest of two numbers by using if-esle condition'''\n",
    "a=-4\n",
    "b=-99\n",
    "if a<b:\n",
    "    print(\"a is small\")\n",
    "else:\n",
    "    print(\"b is small\")\n"
   ]
  },
  {
   "cell_type": "code",
   "execution_count": 69,
   "id": "9dbdd71e-967d-4910-9ef9-09b84165516d",
   "metadata": {},
   "outputs": [
    {
     "name": "stdout",
     "output_type": "stream",
     "text": [
      "enter any character from a-z 2\n"
     ]
    },
    {
     "name": "stdout",
     "output_type": "stream",
     "text": [
      "converted case of input char: 2\n"
     ]
    }
   ],
   "source": [
    "'''write a prg '''\n",
    "ch=input(\"enter any character from a-z\")\n",
    "if ch>='a'and ch<='z':\n",
    "    ch=ch.lower()\n",
    "    print(\"converted case of input char:\",ch)\n",
    "else:\n",
    "    ch=ch.upper()\n",
    "    print(\"converted case of input char:\",ch)\n"
   ]
  },
  {
   "cell_type": "code",
   "execution_count": 114,
   "id": "09d22738-1eae-4b59-a3ee-873cd5a87afe",
   "metadata": {},
   "outputs": [
    {
     "name": "stdout",
     "output_type": "stream",
     "text": [
      "enter the year: 2019\n"
     ]
    },
    {
     "name": "stdout",
     "output_type": "stream",
     "text": [
      "2019 is not leap year\n"
     ]
    }
   ],
   "source": [
    "'''check whether the given input is the leap year for 4 years and centurians by if-else condition'''\n",
    "y=int(input(\"enter the year:\"))\n",
    "if y%4==0 and y%100==0 or y%400==0:\n",
    "    print(y,\"is a leap year\")\n",
    "else:\n",
    "    print(y,\"is not leap year\")\n",
    "    \n",
    "   "
   ]
  },
  {
   "cell_type": "code",
   "execution_count": 94,
   "id": "d07a74cd-f8b7-4f66-b512-6ca549dd949f",
   "metadata": {},
   "outputs": [
    {
     "name": "stdout",
     "output_type": "stream",
     "text": [
      "enter the number -2\n"
     ]
    },
    {
     "name": "stdout",
     "output_type": "stream",
     "text": [
      "negative\n"
     ]
    }
   ],
   "source": [
    "'''write a pg to check whether the given number is a positive negative or 0'''\n",
    "num=int(input(\"enter the number\"))\n",
    "if num==0:\n",
    "    print(\"zero\")\n",
    "elif num>0:\n",
    "    print(\"positive\")\n",
    "else:\n",
    "    print(\"negative\")"
   ]
  },
  {
   "cell_type": "code",
   "execution_count": 102,
   "id": "7ae749b6-302e-4a7c-b0f0-045879b9f7ce",
   "metadata": {},
   "outputs": [
    {
     "name": "stdout",
     "output_type": "stream",
     "text": [
      "enter number -5\n"
     ]
    },
    {
     "name": "stdout",
     "output_type": "stream",
     "text": [
      "negative\n"
     ]
    }
   ],
   "source": [
    "n=int(input(\"enter number\"))\n",
    "if n>0:\n",
    "    print(\"positive\")\n",
    "elif n==0:\n",
    "    print(\"zero\")\n",
    "else:\n",
    "    print(\"negative\")"
   ]
  },
  {
   "cell_type": "code",
   "execution_count": 112,
   "id": "ee1962b3-df20-41b0-a60d-2a58735557d2",
   "metadata": {},
   "outputs": [
    {
     "name": "stdout",
     "output_type": "stream",
     "text": [
      "enter the num b/w 1-7: 9\n"
     ]
    },
    {
     "name": "stdout",
     "output_type": "stream",
     "text": [
      "not a day\n"
     ]
    }
   ],
   "source": [
    "num=int(input(\"enter the num b/w 1-7:\"))\n",
    "if num==1: print(\"sundy\")\n",
    "elif num==2: print(\"monday\")\n",
    "elif num==3: print(\"tuesday\")\n",
    "elif num==4: print(\"wednesday\")\n",
    "elif num==5: print(\"thursday\")\n",
    "elif num==6: print(\"friday\")\n",
    "elif num==7: print(\"saturday\")\n",
    "else:\n",
    "    print(\"not a day\")\n"
   ]
  },
  {
   "cell_type": "code",
   "execution_count": 134,
   "id": "658388e1-d359-4641-8fcd-4a7569580105",
   "metadata": {},
   "outputs": [
    {
     "name": "stdout",
     "output_type": "stream",
     "text": [
      "enter the char  K\n"
     ]
    },
    {
     "name": "stdout",
     "output_type": "stream",
     "text": [
      "K is comsonent\n"
     ]
    }
   ],
   "source": [
    "'''write a pg to find the entered character is a vowel or a consonent,while user\n",
    "input could be either upper or lower case using if-elif-else'''\n",
    "char=input(\"enter the char \")\n",
    "if char=='a' or char=='e' or char=='i' or char=='o' or char=='u': \n",
    "    print(char,\"is a vowel\")\n",
    "elif char=='A' or char=='E' or char=='I' or char=='O' or char=='U': \n",
    "    print(char,\"is not a vowel\")\n",
    "else:\n",
    "    print(char,\"is comsonent\")\n"
   ]
  },
  {
   "cell_type": "code",
   "execution_count": 142,
   "id": "e8c8bae2-30fd-43f9-8ab5-023f063a2224",
   "metadata": {},
   "outputs": [
    {
     "name": "stdout",
     "output_type": "stream",
     "text": [
      "enter the value of a: 18\n",
      "enter the value of b: 12\n",
      "enter the opretion(+,-,/,*): %\n"
     ]
    },
    {
     "name": "stdout",
     "output_type": "stream",
     "text": [
      "invalide opretion \n"
     ]
    }
   ],
   "source": [
    "'''creat a simple clac by using if-elif to perform \n",
    "arthmetic operations +-/* by choice of user input'''\n",
    "a=float(input(\"enter the value of a:\"))\n",
    "b=float(input(\"enter the value of b:\"))\n",
    "op=input(\"enter the opretion(+,-,/,*):\")\n",
    "if op=='+':\n",
    "    print(\"result\",a+b)\n",
    "elif op=='-':\n",
    "    print(\"result\",a-b)\n",
    "elif op=='/':\n",
    "    print(\"result\",a/b)\n",
    "elif op=='*':\n",
    "    print(\"result\",a*b)\n",
    "else:\n",
    "    print(\"invalide opretion \")\n",
    "         "
   ]
  },
  {
   "cell_type": "code",
   "execution_count": null,
   "id": "45e6e65a-7de7-4e6f-8d69-bc04b3dd4ea9",
   "metadata": {},
   "outputs": [],
   "source": []
  }
 ],
 "metadata": {
  "kernelspec": {
   "display_name": "Python 3 (ipykernel)",
   "language": "python",
   "name": "python3"
  },
  "language_info": {
   "codemirror_mode": {
    "name": "ipython",
    "version": 3
   },
   "file_extension": ".py",
   "mimetype": "text/x-python",
   "name": "python",
   "nbconvert_exporter": "python",
   "pygments_lexer": "ipython3",
   "version": "3.12.7"
  }
 },
 "nbformat": 4,
 "nbformat_minor": 5
}
